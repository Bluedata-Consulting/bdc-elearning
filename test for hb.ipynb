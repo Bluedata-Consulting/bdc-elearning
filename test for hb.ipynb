{
 "cells": [
  {
   "cell_type": "code",
   "execution_count": 5,
   "metadata": {},
   "outputs": [
    {
     "name": "stdout",
     "output_type": "stream",
     "text": [
      "Collecting openai==1.6.1\n",
      "  Using cached openai-1.6.1-py3-none-any.whl (225 kB)\n",
      "Requirement already satisfied: httpx<1,>=0.23.0 in c:\\users\\ujjaval\\anaconda3\\envs\\pythonproject\\lib\\site-packages (from openai==1.6.1) (0.25.1)\n",
      "Requirement already satisfied: pydantic<3,>=1.9.0 in c:\\users\\ujjaval\\anaconda3\\envs\\pythonproject\\lib\\site-packages (from openai==1.6.1) (2.5.2)\n",
      "Requirement already satisfied: anyio<5,>=3.5.0 in c:\\users\\ujjaval\\anaconda3\\envs\\pythonproject\\lib\\site-packages (from openai==1.6.1) (3.7.1)\n",
      "Requirement already satisfied: tqdm>4 in c:\\users\\ujjaval\\anaconda3\\envs\\pythonproject\\lib\\site-packages (from openai==1.6.1) (4.65.0)\n",
      "Requirement already satisfied: typing-extensions<5,>=4.7 in c:\\users\\ujjaval\\anaconda3\\envs\\pythonproject\\lib\\site-packages (from openai==1.6.1) (4.9.0)\n",
      "Requirement already satisfied: sniffio in c:\\users\\ujjaval\\anaconda3\\envs\\pythonproject\\lib\\site-packages (from openai==1.6.1) (1.3.0)\n",
      "Requirement already satisfied: distro<2,>=1.7.0 in c:\\users\\ujjaval\\anaconda3\\envs\\pythonproject\\lib\\site-packages (from openai==1.6.1) (1.8.0)\n",
      "Requirement already satisfied: exceptiongroup in c:\\users\\ujjaval\\anaconda3\\envs\\pythonproject\\lib\\site-packages (from anyio<5,>=3.5.0->openai==1.6.1) (1.1.3)\n",
      "Requirement already satisfied: idna>=2.8 in c:\\users\\ujjaval\\anaconda3\\envs\\pythonproject\\lib\\site-packages (from anyio<5,>=3.5.0->openai==1.6.1) (2.8)\n",
      "Requirement already satisfied: certifi in c:\\users\\ujjaval\\anaconda3\\envs\\pythonproject\\lib\\site-packages (from httpx<1,>=0.23.0->openai==1.6.1) (2023.5.7)Note: you may need to restart the kernel to use updated packages.\n",
      "Requirement already satisfied: httpcore in c:\\users\\ujjaval\\anaconda3\\envs\\pythonproject\\lib\\site-packages (from httpx<1,>=0.23.0->openai==1.6.1) (1.0.2)\n",
      "Requirement already satisfied: annotated-types>=0.4.0 in c:\\users\\ujjaval\\anaconda3\\envs\\pythonproject\\lib\\site-packages (from pydantic<3,>=1.9.0->openai==1.6.1) (0.6.0)\n",
      "Requirement already satisfied: pydantic-core==2.14.5 in c:\\users\\ujjaval\\anaconda3\\envs\\pythonproject\\lib\\site-packages (from pydantic<3,>=1.9.0->openai==1.6.1) (2.14.5)\n",
      "\n"
     ]
    },
    {
     "name": "stderr",
     "output_type": "stream",
     "text": [
      "WARNING: Ignoring invalid distribution -andas (c:\\users\\ujjaval\\anaconda3\\envs\\pythonproject\\lib\\site-packages)\n",
      "WARNING: Ignoring invalid distribution -andas (c:\\users\\ujjaval\\anaconda3\\envs\\pythonproject\\lib\\site-packages)\n",
      "WARNING: Ignoring invalid distribution -andas (c:\\users\\ujjaval\\anaconda3\\envs\\pythonproject\\lib\\site-packages)\n",
      "    WARNING: Ignoring invalid distribution -andas (c:\\users\\ujjaval\\anaconda3\\envs\\pythonproject\\lib\\site-packages)\n",
      "WARNING: Ignoring invalid distribution -andas (c:\\users\\ujjaval\\anaconda3\\envs\\pythonproject\\lib\\site-packages)\n",
      "ERROR: pip's dependency resolver does not currently take into account all the packages that are installed. This behaviour is the source of the following dependency conflicts.\n",
      "pilothub 0.1.8 requires openai==1.14.1, but you have openai 1.6.1 which is incompatible.\n",
      "WARNING: Ignoring invalid distribution -andas (c:\\users\\ujjaval\\anaconda3\\envs\\pythonproject\\lib\\site-packages)\n",
      "WARNING: Ignoring invalid distribution -andas (c:\\users\\ujjaval\\anaconda3\\envs\\pythonproject\\lib\\site-packages)\n",
      "WARNING: Ignoring invalid distribution -andas (c:\\users\\ujjaval\\anaconda3\\envs\\pythonproject\\lib\\site-packages)\n"
     ]
    },
    {
     "name": "stdout",
     "output_type": "stream",
     "text": [
      "Requirement already satisfied: colorama in c:\\users\\ujjaval\\anaconda3\\envs\\pythonproject\\lib\\site-packages (from tqdm>4->openai==1.6.1) (0.4.6)\n",
      "Requirement already satisfied: h11<0.15,>=0.13 in c:\\users\\ujjaval\\anaconda3\\envs\\pythonproject\\lib\\site-packages (from httpcore->httpx<1,>=0.23.0->openai==1.6.1) (0.14.0)\n",
      "Installing collected packages: openai\n",
      "  Attempting uninstall: openai\n",
      "    Found existing installation: openai 1.23.2\n",
      "    Uninstalling openai-1.23.2:\n",
      "      Successfully uninstalled openai-1.23.2\n",
      "Successfully installed openai-1.6.1\n"
     ]
    }
   ],
   "source": [
    "pip install openai==1.6.1\n"
   ]
  },
  {
   "cell_type": "code",
   "execution_count": 2,
   "metadata": {},
   "outputs": [
    {
     "name": "stdout",
     "output_type": "stream",
     "text": [
      "Requirement already satisfied: python-dotenv in c:\\users\\ujjaval\\anaconda3\\envs\\pythonproject\\lib\\site-packages (1.0.0)\n",
      "Note: you may need to restart the kernel to use updated packages.\n"
     ]
    },
    {
     "name": "stderr",
     "output_type": "stream",
     "text": [
      "WARNING: Ignoring invalid distribution -andas (c:\\users\\ujjaval\\anaconda3\\envs\\pythonproject\\lib\\site-packages)\n",
      "WARNING: Ignoring invalid distribution -andas (c:\\users\\ujjaval\\anaconda3\\envs\\pythonproject\\lib\\site-packages)\n",
      "WARNING: Ignoring invalid distribution -andas (c:\\users\\ujjaval\\anaconda3\\envs\\pythonproject\\lib\\site-packages)\n",
      "WARNING: Ignoring invalid distribution -andas (c:\\users\\ujjaval\\anaconda3\\envs\\pythonproject\\lib\\site-packages)\n",
      "WARNING: Ignoring invalid distribution -andas (c:\\users\\ujjaval\\anaconda3\\envs\\pythonproject\\lib\\site-packages)\n",
      "WARNING: Ignoring invalid distribution -andas (c:\\users\\ujjaval\\anaconda3\\envs\\pythonproject\\lib\\site-packages)\n"
     ]
    }
   ],
   "source": [
    "pip install python-dotenv\n"
   ]
  },
  {
   "cell_type": "code",
   "execution_count": 7,
   "metadata": {},
   "outputs": [
    {
     "name": "stdout",
     "output_type": "stream",
     "text": [
      "Requirement already satisfied: pilothub in c:\\users\\ujjaval\\anaconda3\\envs\\pythonproject\\lib\\site-packages (0.1.8)\n",
      "Requirement already satisfied: comtypes==1.2.0 in c:\\users\\ujjaval\\anaconda3\\envs\\pythonproject\\lib\\site-packages (from pilothub) (1.2.0)\n",
      "Requirement already satisfied: python-pptx==0.6.23 in c:\\users\\ujjaval\\anaconda3\\envs\\pythonproject\\lib\\site-packages (from pilothub) (0.6.23)\n",
      "Requirement already satisfied: python-docx==1.1.0 in c:\\users\\ujjaval\\anaconda3\\envs\\pythonproject\\lib\\site-packages (from pilothub) (1.1.0)\n",
      "Collecting openai==1.14.1\n",
      "  Using cached openai-1.14.1-py3-none-any.whl (257 kB)\n",
      "Requirement already satisfied: sniffio in c:\\users\\ujjaval\\anaconda3\\envs\\pythonproject\\lib\\site-packages (from openai==1.14.1->pilothub) (1.3.0)\n",
      "Requirement already satisfied: tqdm>4 in c:\\users\\ujjaval\\anaconda3\\envs\\pythonproject\\lib\\site-packages (from openai==1.14.1->pilothub) (4.65.0)\n",
      "Requirement already satisfied: pydantic<3,>=1.9.0 in c:\\users\\ujjaval\\anaconda3\\envs\\pythonproject\\lib\\site-packages (from openai==1.14.1->pilothub) (2.5.2)\n",
      "Requirement already satisfied: anyio<5,>=3.5.0 in c:\\users\\ujjaval\\anaconda3\\envs\\pythonproject\\lib\\site-packages (from openai==1.14.1->pilothub) (3.7.1)\n",
      "Requirement already satisfied: typing-extensions<5,>=4.7 in c:\\users\\ujjaval\\anaconda3\\envs\\pythonproject\\lib\\site-packages (from openai==1.14.1->pilothub) (4.9.0)\n",
      "Requirement already satisfied: httpx<1,>=0.23.0 in c:\\users\\ujjaval\\anaconda3\\envs\\pythonproject\\lib\\site-packages (from openai==1.14.1->pilothub) (0.25.1)\n",
      "Requirement already satisfied: distro<2,>=1.7.0 in c:\\users\\ujjaval\\anaconda3\\envs\\pythonproject\\lib\\site-packages (from openai==1.14.1->pilothub) (1.8.0)\n",
      "Requirement already satisfied: lxml>=3.1.0 in c:\\users\\ujjaval\\anaconda3\\envs\\pythonproject\\lib\\site-packages (from python-docx==1.1.0->pilothub) (4.9.3)\n",
      "Requirement already satisfied: XlsxWriter>=0.5.7 in c:\\users\\ujjaval\\anaconda3\\envs\\pythonproject\\lib\\site-packages (from python-pptx==0.6.23->pilothub) (3.1.9)\n",
      "Requirement already satisfied: Pillow>=3.3.2 in c:\\users\\ujjaval\\anaconda3\\envs\\pythonproject\\lib\\site-packages (from python-pptx==0.6.23->pilothub) (9.5.0)\n",
      "Requirement already satisfied: exceptiongroup in c:\\users\\ujjaval\\anaconda3\\envs\\pythonproject\\lib\\site-packages (from anyio<5,>=3.5.0->openai==1.14.1->pilothub) (1.1.3)\n",
      "Requirement already satisfied: idna>=2.8 in c:\\users\\ujjaval\\anaconda3\\envs\\pythonproject\\lib\\site-packages (from anyio<5,>=3.5.0->openai==1.14.1->pilothub) (2.8)\n",
      "Requirement already satisfied: httpcore in c:\\users\\ujjaval\\anaconda3\\envs\\pythonproject\\lib\\site-packages (from httpx<1,>=0.23.0->openai==1.14.1->pilothub) (1.0.2)\n",
      "Requirement already satisfied: certifi in c:\\users\\ujjaval\\anaconda3\\envs\\pythonproject\\lib\\site-packages (from httpx<1,>=0.23.0->openai==1.14.1->pilothub) (2023.5.7)\n",
      "Requirement already satisfied: annotated-types>=0.4.0 in c:\\users\\ujjaval\\anaconda3\\envs\\pythonproject\\lib\\site-packages (from pydantic<3,>=1.9.0->openai==1.14.1->pilothub) (0.6.0)\n",
      "Requirement already satisfied: pydantic-core==2.14.5 in c:\\users\\ujjaval\\anaconda3\\envs\\pythonproject\\lib\\site-packages (from pydantic<3,>=1.9.0->openai==1.14.1->pilothub) (2.14.5)\n",
      "Requirement already satisfied: colorama in c:\\users\\ujjaval\\anaconda3\\envs\\pythonproject\\lib\\site-packages (from tqdm>4->openai==1.14.1->pilothub) (0.4.6)\n",
      "Requirement already satisfied: h11<0.15,>=0.13 in c:\\users\\ujjaval\\anaconda3\\envs\\pythonproject\\lib\\site-packages (from httpcore->httpx<1,>=0.23.0->openai==1.14.1->pilothub) (0.14.0)\n",
      "Installing collected packages: openai\n",
      "  Attempting uninstall: openai\n",
      "    Found existing installation: openai 1.6.1\n",
      "    Uninstalling openai-1.6.1:\n",
      "      Successfully uninstalled openai-1.6.1\n",
      "Successfully installed openai-1.14.1\n",
      "Note: you may need to restart the kernel to use updated packages.\n"
     ]
    },
    {
     "name": "stderr",
     "output_type": "stream",
     "text": [
      "WARNING: Ignoring invalid distribution -andas (c:\\users\\ujjaval\\anaconda3\\envs\\pythonproject\\lib\\site-packages)\n",
      "WARNING: Ignoring invalid distribution -andas (c:\\users\\ujjaval\\anaconda3\\envs\\pythonproject\\lib\\site-packages)\n",
      "WARNING: Ignoring invalid distribution -andas (c:\\users\\ujjaval\\anaconda3\\envs\\pythonproject\\lib\\site-packages)\n",
      "    WARNING: Ignoring invalid distribution -andas (c:\\users\\ujjaval\\anaconda3\\envs\\pythonproject\\lib\\site-packages)\n",
      "WARNING: Ignoring invalid distribution -andas (c:\\users\\ujjaval\\anaconda3\\envs\\pythonproject\\lib\\site-packages)\n",
      "WARNING: Ignoring invalid distribution -andas (c:\\users\\ujjaval\\anaconda3\\envs\\pythonproject\\lib\\site-packages)\n",
      "WARNING: Ignoring invalid distribution -andas (c:\\users\\ujjaval\\anaconda3\\envs\\pythonproject\\lib\\site-packages)\n",
      "WARNING: Ignoring invalid distribution -andas (c:\\users\\ujjaval\\anaconda3\\envs\\pythonproject\\lib\\site-packages)\n"
     ]
    }
   ],
   "source": [
    "pip install pilothub"
   ]
  },
  {
   "cell_type": "code",
   "execution_count": 6,
   "metadata": {},
   "outputs": [
    {
     "data": {
      "text/plain": [
       "True"
      ]
     },
     "execution_count": 6,
     "metadata": {},
     "output_type": "execute_result"
    }
   ],
   "source": [
    "import os\n",
    "# importing necessary functions from dotenv library\n",
    "from dotenv import load_dotenv, dotenv_values \n",
    "# loading variables from .env file\n",
    "load_dotenv() "
   ]
  },
  {
   "cell_type": "code",
   "execution_count": 9,
   "metadata": {},
   "outputs": [],
   "source": [
    "from pilothub_utils.withopenai import ContentClient\n",
    "\n",
    "from pilothub_utils.pptnotes import PPTx2Notes\n",
    "\n",
    "model = \"gpt-4-1106-preview\"\n",
    "api_key = os.getenv(\"OPEN_AI_API_KEY\")\n",
    "source_path = r\"PPT1 (1).pptx\"\n",
    "dest_path = r\"PPT1 (1) with notes.pptx\""
   ]
  },
  {
   "cell_type": "code",
   "execution_count": 10,
   "metadata": {},
   "outputs": [],
   "source": [
    "\t\n",
    "openai_client = ContentClient(openai_api_key=api_key,\n",
    "                              open_ai_model=model,\n",
    "                              max_tokens=2500,\n",
    "                              temperature=0.7)"
   ]
  },
  {
   "cell_type": "code",
   "execution_count": 13,
   "metadata": {},
   "outputs": [
    {
     "name": "stdout",
     "output_type": "stream",
     "text": [
      "Total Number of slides  29\n"
     ]
    }
   ],
   "source": [
    "\n",
    "ppt_client = PPTx2Notes(file_path=source_path)\n",
    "n = len(ppt_client.slides)\n",
    "print(\"Total Number of slides \",n)"
   ]
  },
  {
   "cell_type": "code",
   "execution_count": 14,
   "metadata": {},
   "outputs": [],
   "source": [
    "skip_slides_index = [0,n-4,n-3,n-2,n-1,n]\n",
    "skip_slides_layout = [\"1_Custom Layout\",\"Quote Slide\",\"Contemporary_Title v1\",\"Section Header\",\"Last_Slide v1\",\"Quiz\",\"Summary\"]\n",
    "skip_slide_titles = [\"quiz\",\"summary\"]\n",
    "ppt_client.set_skip_slides(skip_slides_index=skip_slides_index,\n",
    "                           skip_slides_layout=skip_slides_layout,\n",
    "                           skip_slide_titles=skip_slide_titles)"
   ]
  },
  {
   "cell_type": "code",
   "execution_count": 15,
   "metadata": {},
   "outputs": [
    {
     "name": "stderr",
     "output_type": "stream",
     "text": [
      "  0%|          | 0/29 [00:00<?, ?it/s]"
     ]
    },
    {
     "name": "stdout",
     "output_type": "stream",
     "text": [
      "Processing slide 1/29 - 3.45%\n",
      "Processing slide 2/29 - 6.90%\n",
      "Processing slide 3/29 - 10.34%\n"
     ]
    },
    {
     "name": "stderr",
     "output_type": "stream",
     "text": [
      " 10%|█         | 3/29 [00:20<02:56,  6.79s/it]"
     ]
    },
    {
     "name": "stdout",
     "output_type": "stream",
     "text": [
      "Processing slide 4/29 - 13.79%\n"
     ]
    },
    {
     "name": "stderr",
     "output_type": "stream",
     "text": [
      " 14%|█▍        | 4/29 [00:40<04:38, 11.15s/it]"
     ]
    },
    {
     "name": "stdout",
     "output_type": "stream",
     "text": [
      "Processing slide 5/29 - 17.24%\n"
     ]
    },
    {
     "name": "stderr",
     "output_type": "stream",
     "text": [
      " 17%|█▋        | 5/29 [01:00<05:30, 13.78s/it]"
     ]
    },
    {
     "name": "stdout",
     "output_type": "stream",
     "text": [
      "Processing slide 6/29 - 20.69%\n"
     ]
    },
    {
     "name": "stderr",
     "output_type": "stream",
     "text": [
      " 21%|██        | 6/29 [01:09<04:47, 12.48s/it]"
     ]
    },
    {
     "name": "stdout",
     "output_type": "stream",
     "text": [
      "Processing slide 7/29 - 24.14%\n"
     ]
    },
    {
     "name": "stderr",
     "output_type": "stream",
     "text": [
      " 24%|██▍       | 7/29 [01:21<04:29, 12.26s/it]"
     ]
    },
    {
     "name": "stdout",
     "output_type": "stream",
     "text": [
      "Processing slide 8/29 - 27.59%\n"
     ]
    },
    {
     "name": "stderr",
     "output_type": "stream",
     "text": [
      " 28%|██▊       | 8/29 [01:36<04:37, 13.22s/it]"
     ]
    },
    {
     "name": "stdout",
     "output_type": "stream",
     "text": [
      "Processing slide 9/29 - 31.03%\n"
     ]
    },
    {
     "name": "stderr",
     "output_type": "stream",
     "text": [
      " 31%|███       | 9/29 [01:50<04:23, 13.19s/it]"
     ]
    },
    {
     "name": "stdout",
     "output_type": "stream",
     "text": [
      "Processing slide 10/29 - 34.48%\n"
     ]
    },
    {
     "name": "stderr",
     "output_type": "stream",
     "text": [
      " 34%|███▍      | 10/29 [02:05<04:23, 13.88s/it]"
     ]
    },
    {
     "name": "stdout",
     "output_type": "stream",
     "text": [
      "Processing slide 11/29 - 37.93%\n"
     ]
    },
    {
     "name": "stderr",
     "output_type": "stream",
     "text": [
      " 38%|███▊      | 11/29 [02:18<04:02, 13.49s/it]"
     ]
    },
    {
     "name": "stdout",
     "output_type": "stream",
     "text": [
      "Processing slide 12/29 - 41.38%\n"
     ]
    },
    {
     "name": "stderr",
     "output_type": "stream",
     "text": [
      " 41%|████▏     | 12/29 [02:40<04:32, 16.04s/it]"
     ]
    },
    {
     "name": "stdout",
     "output_type": "stream",
     "text": [
      "Processing slide 13/29 - 44.83%\n"
     ]
    },
    {
     "name": "stderr",
     "output_type": "stream",
     "text": [
      " 45%|████▍     | 13/29 [03:03<04:49, 18.12s/it]"
     ]
    },
    {
     "name": "stdout",
     "output_type": "stream",
     "text": [
      "Processing slide 14/29 - 48.28%\n"
     ]
    },
    {
     "name": "stderr",
     "output_type": "stream",
     "text": [
      " 48%|████▊     | 14/29 [03:14<04:01, 16.08s/it]"
     ]
    },
    {
     "name": "stdout",
     "output_type": "stream",
     "text": [
      "Processing slide 15/29 - 51.72%\n"
     ]
    },
    {
     "name": "stderr",
     "output_type": "stream",
     "text": [
      " 52%|█████▏    | 15/29 [03:23<03:15, 13.96s/it]"
     ]
    },
    {
     "name": "stdout",
     "output_type": "stream",
     "text": [
      "Processing slide 16/29 - 55.17%\n"
     ]
    },
    {
     "name": "stderr",
     "output_type": "stream",
     "text": [
      " 55%|█████▌    | 16/29 [03:32<02:40, 12.36s/it]"
     ]
    },
    {
     "name": "stdout",
     "output_type": "stream",
     "text": [
      "Processing slide 17/29 - 58.62%\n"
     ]
    },
    {
     "name": "stderr",
     "output_type": "stream",
     "text": [
      " 59%|█████▊    | 17/29 [03:43<02:25, 12.10s/it]"
     ]
    },
    {
     "name": "stdout",
     "output_type": "stream",
     "text": [
      "Processing slide 18/29 - 62.07%\n"
     ]
    },
    {
     "name": "stderr",
     "output_type": "stream",
     "text": [
      " 62%|██████▏   | 18/29 [04:05<02:44, 14.97s/it]"
     ]
    },
    {
     "name": "stdout",
     "output_type": "stream",
     "text": [
      "Processing slide 19/29 - 65.52%\n"
     ]
    },
    {
     "name": "stderr",
     "output_type": "stream",
     "text": [
      " 66%|██████▌   | 19/29 [04:18<02:25, 14.56s/it]"
     ]
    },
    {
     "name": "stdout",
     "output_type": "stream",
     "text": [
      "Processing slide 20/29 - 68.97%\n"
     ]
    },
    {
     "name": "stderr",
     "output_type": "stream",
     "text": [
      " 69%|██████▉   | 20/29 [04:32<02:09, 14.34s/it]"
     ]
    },
    {
     "name": "stdout",
     "output_type": "stream",
     "text": [
      "Processing slide 21/29 - 72.41%\n"
     ]
    },
    {
     "name": "stderr",
     "output_type": "stream",
     "text": [
      "100%|██████████| 29/29 [04:48<00:00,  9.96s/it]\n"
     ]
    },
    {
     "name": "stdout",
     "output_type": "stream",
     "text": [
      "Processing slide 22/29 - 75.86%\n",
      "Processing slide 23/29 - 79.31%\n",
      "Processing slide 24/29 - 82.76%\n",
      "Processing slide 25/29 - 86.21%\n",
      "Processing slide 26/29 - 89.66%\n",
      "Processing slide 27/29 - 93.10%\n",
      "Processing slide 28/29 - 96.55%\n",
      "Processing slide 29/29 - 100.00%\n",
      "Notes written to PPT1 (1) with notes.pptx\n"
     ]
    }
   ],
   "source": [
    "ai_prompt_dict = {\n",
    "    \"CoverPage\":\"Explain the Module Name in 2 lines\",\n",
    "    \"Agenda\":\"This slide contains the agenda for whole module, provide one line summary for each topic.\",\n",
    "    \"Section Header\":\"This is Section Header, Provide a 5 lines summary on what this section is about.\",\n",
    "    \"Quote Slide\":\"This is a quote slide, provide a 10 lines summary with Key points to remember on what this quote is about.\",\n",
    "    \"RunningMan-Infographic\":\"This is an summary slide, provide a 10 lines summary with Key points to remember on what this infographic is about.\",\n",
    "}\n",
    "\n",
    "ai_prompt_for_skip_slides = \"\"\"\n",
    "You are an expert in course creation related to AGen AI, below is text on the slide, provide short notes for this slide in less than 2 lines:\n",
    "\n",
    "\"\"\"\n",
    "default_prompt = \"\"\"\n",
    "Role: You are an expert in course creation and articulation.\n",
    "            Task: You need to provide notes for teacher so that they can explain gen ai related topics to students\n",
    "            Contraints: Keep the notes provided precise and concise.\n",
    "            Use bullet points to explain the key concepts.\n",
    "            Do not use any decoration such as bold text (prefer using bullet text)\n",
    "            Provide notes for the following information:\n",
    "            \"\"\"\n",
    "ppt_client.write_notes_to_pptx(output_path=dest_path,\n",
    "                               content_client=openai_client,\n",
    "                               SET_AI_TEXT_FOR_SKIP_SLIDES=False,\n",
    "                            #    AI_PROPMT_SKIP_SLIDES=ai_prompt_for_skip_slides,\n",
    "                            #    AI_PROMPT_DICT_SKIP_SLIDES=ai_prompt_dict,\n",
    "                               DEFAULT_PROMPT_FOR_OTHER_SLIDES=default_prompt,\n",
    "                               SKIP_NOTES_FOR_SLIDES_WITH_NOTES=False)"
   ]
  },
  {
   "cell_type": "code",
   "execution_count": 39,
   "metadata": {},
   "outputs": [],
   "source": [
    "from pilothub_utils.ppt2hb import HandbookMaker"
   ]
  },
  {
   "cell_type": "code",
   "execution_count": 40,
   "metadata": {},
   "outputs": [
    {
     "ename": "AttributeError",
     "evalue": "'HandbookMaker' object has no attribute 'handbook'",
     "output_type": "error",
     "traceback": [
      "\u001b[1;31m---------------------------------------------------------------------------\u001b[0m",
      "\u001b[1;31mAttributeError\u001b[0m                            Traceback (most recent call last)",
      "Cell \u001b[1;32mIn[40], line 16\u001b[0m\n\u001b[0;32m     13\u001b[0m skip_text_from_slides \u001b[38;5;241m=\u001b[39m [\u001b[38;5;124m'\u001b[39m\u001b[38;5;124msample_text1\u001b[39m\u001b[38;5;124m'\u001b[39m,\u001b[38;5;124m'\u001b[39m\u001b[38;5;124msample_text2\u001b[39m\u001b[38;5;124m'\u001b[39m]\n\u001b[0;32m     15\u001b[0m \u001b[38;5;66;03m# Generate the handbook from the PowerPoint presentation\u001b[39;00m\n\u001b[1;32m---> 16\u001b[0m \u001b[43mhandbook_maker\u001b[49m\u001b[38;5;241;43m.\u001b[39;49m\u001b[43mhandbook\u001b[49m(output_file_path\u001b[38;5;241m=\u001b[39moutput_path,\n\u001b[0;32m     17\u001b[0m                                        skip_slides\u001b[38;5;241m=\u001b[39mskip_slides,\n\u001b[0;32m     18\u001b[0m                                        content_layout_name\u001b[38;5;241m=\u001b[39mcontent_layout_name,\n\u001b[0;32m     19\u001b[0m                                        skip_text_from_slides\u001b[38;5;241m=\u001b[39mskip_text_from_slides)\n",
      "\u001b[1;31mAttributeError\u001b[0m: 'HandbookMaker' object has no attribute 'handbook'"
     ]
    }
   ],
   "source": [
    "\n",
    "# Set the path of the PowerPoint presentation\n",
    "ppt_path = r\"PPT1 (1) with notes.pptx\"\n",
    "\n",
    "# Set the output path for the generated handbook\n",
    "output_path = \"handbook.docx\"\n",
    "\n",
    "# Create an instance of HandbookMaker\n",
    "handbook_maker = HandbookMaker(ppt_path)\n",
    "\n",
    "\n",
    "skip_slides = ['Quiz', 'CoverPage', 'RunningMan-Infographic','Last_Slide v1','1_Custom Layout','Contemporary_Title v1']\n",
    "content_layout_name = \"Title and Content\"\n",
    "skip_text_from_slides = ['sample_text1','sample_text2']\n",
    "\n",
    "# Generate the handbook from the PowerPoint presentation\n",
    "handbook_maker.handbook(output_file_path=output_path,\n",
    "                                       skip_slides=skip_slides,\n",
    "                                       content_layout_name=content_layout_name,\n",
    "                                       skip_text_from_slides=skip_text_from_slides)"
   ]
  },
  {
   "cell_type": "code",
   "execution_count": 18,
   "metadata": {},
   "outputs": [
    {
     "name": "stdout",
     "output_type": "stream",
     "text": [
      "Collecting aspose.slidesNote: you may need to restart the kernel to use updated packages.\n"
     ]
    },
    {
     "name": "stderr",
     "output_type": "stream",
     "text": [
      "WARNING: Ignoring invalid distribution -andas (c:\\users\\ujjaval\\anaconda3\\envs\\pythonproject\\lib\\site-packages)\n",
      "WARNING: Ignoring invalid distribution -andas (c:\\users\\ujjaval\\anaconda3\\envs\\pythonproject\\lib\\site-packages)\n",
      "WARNING: Ignoring invalid distribution -andas (c:\\users\\ujjaval\\anaconda3\\envs\\pythonproject\\lib\\site-packages)\n",
      "WARNING: Ignoring invalid distribution -andas (c:\\users\\ujjaval\\anaconda3\\envs\\pythonproject\\lib\\site-packages)\n",
      "WARNING: Ignoring invalid distribution -andas (c:\\users\\ujjaval\\anaconda3\\envs\\pythonproject\\lib\\site-packages)\n",
      "WARNING: Ignoring invalid distribution -andas (c:\\users\\ujjaval\\anaconda3\\envs\\pythonproject\\lib\\site-packages)\n",
      "WARNING: Ignoring invalid distribution -andas (c:\\users\\ujjaval\\anaconda3\\envs\\pythonproject\\lib\\site-packages)\n",
      "WARNING: Ignoring invalid distribution -andas (c:\\users\\ujjaval\\anaconda3\\envs\\pythonproject\\lib\\site-packages)\n"
     ]
    },
    {
     "name": "stdout",
     "output_type": "stream",
     "text": [
      "\n",
      "  Downloading Aspose.Slides-24.4.0-py3-none-win_amd64.whl (65.3 MB)\n",
      "     ---------------------------------------- 65.3/65.3 MB 5.9 MB/s eta 0:00:00\n",
      "Collecting aspose.words\n",
      "  Downloading aspose_words-24.4.0-py3-none-win_amd64.whl (62.9 MB)\n",
      "     ---------------------------------------- 62.9/62.9 MB 6.9 MB/s eta 0:00:00\n",
      "Installing collected packages: aspose.words, aspose.slides\n",
      "Successfully installed aspose.slides-24.4.0 aspose.words-24.4.0\n"
     ]
    }
   ],
   "source": [
    "pip install aspose.slides aspose.words\n"
   ]
  }
 ],
 "metadata": {
  "kernelspec": {
   "display_name": "pythonProject",
   "language": "python",
   "name": "python3"
  },
  "language_info": {
   "codemirror_mode": {
    "name": "ipython",
    "version": 3
   },
   "file_extension": ".py",
   "mimetype": "text/x-python",
   "name": "python",
   "nbconvert_exporter": "python",
   "pygments_lexer": "ipython3",
   "version": "3.10.0"
  }
 },
 "nbformat": 4,
 "nbformat_minor": 2
}
